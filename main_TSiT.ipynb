{
 "cells": [
  {
   "cell_type": "markdown",
   "id": "b7660ca1",
   "metadata": {},
   "source": [
    "# Load an irregular time series pre-trained model (TSiT) and perform inference on a test dataset"
   ]
  },
  {
   "cell_type": "markdown",
   "id": "813c6c9b",
   "metadata": {},
   "source": [
    "## Libraries"
   ]
  },
  {
   "cell_type": "code",
   "execution_count": 1,
   "id": "197b1f96",
   "metadata": {},
   "outputs": [
    {
     "name": "stdout",
     "output_type": "stream",
     "text": [
      "os              : Linux-5.10.218-llgrid-x86_64-with-glibc2.17\n",
      "python          : 3.8.15\n",
      "tsai            : 0.3.7\n",
      "fastai          : 2.7.12\n",
      "fastcore        : 1.5.29\n",
      "torch           : 1.12.1+cu113\n",
      "cpu cores       : 48\n",
      "threads per cpu : 2\n",
      "RAM             : 187.54 GB\n",
      "GPU memory      : N/A\n"
     ]
    }
   ],
   "source": [
    "from tsai.all import *\n",
    "my_setup()\n",
    "import os\n",
    "import pickle"
   ]
  },
  {
   "cell_type": "markdown",
   "id": "1a132e64",
   "metadata": {},
   "source": [
    "## Select folder"
   ]
  },
  {
   "cell_type": "code",
   "execution_count": 2,
   "id": "3b8505a3",
   "metadata": {},
   "outputs": [],
   "source": [
    "foldername = \"pre_trained_model_Nst_10\"\n",
    "# foldername = \"pre_trained_model_Nst_15\"\n",
    "\n",
    "export_file = 'export.pkl' "
   ]
  },
  {
   "cell_type": "markdown",
   "id": "bc97b9a7",
   "metadata": {},
   "source": [
    "## Load pre-trained model"
   ]
  },
  {
   "cell_type": "code",
   "execution_count": 3,
   "id": "1cfe4bf0",
   "metadata": {},
   "outputs": [],
   "source": [
    "learn_loaded = load_learner(fname=os.path.join(foldername, export_file)) \n",
    "\n",
    "class_p = ['PAYLOAD']\n",
    "class_r = ['ROCKET BODY']\n",
    "class_d = ['DEBRIS']\n",
    "vocab = [class_d[0], class_p[0], class_r[0]]"
   ]
  },
  {
   "cell_type": "markdown",
   "id": "bff315c1",
   "metadata": {},
   "source": [
    "## Load original dataset"
   ]
  },
  {
   "cell_type": "code",
   "execution_count": 4,
   "id": "605f48e1",
   "metadata": {},
   "outputs": [],
   "source": [
    "file_path = os.path.join(foldername, 'split_data.pkl')\n",
    "with open(file_path, 'rb') as f:\n",
    "    X, y, splits, ID_pred, feat_names = pickle.load(f)\n",
    "X_test_2 = X[splits[1]]\n",
    "y_test_2 = [y[i] for i in splits[1]]"
   ]
  },
  {
   "cell_type": "markdown",
   "id": "6a4bca0b",
   "metadata": {},
   "source": [
    "## Select one sample in the dataset (or add your sample)"
   ]
  },
  {
   "cell_type": "code",
   "execution_count": 5,
   "id": "d1e00fd3",
   "metadata": {},
   "outputs": [],
   "source": [
    "item0 = 0\n",
    "item1 = item0 + 1\n",
    "X_test_2_b = X_test_2[item0:item1]\n",
    "y_test_2_b = y_test_2[item0:item1]"
   ]
  },
  {
   "cell_type": "markdown",
   "id": "b8ebc7d8",
   "metadata": {},
   "source": [
    "## Perform inference on a test dataset"
   ]
  },
  {
   "cell_type": "code",
   "execution_count": 6,
   "id": "c2b2f9ff",
   "metadata": {},
   "outputs": [
    {
     "data": {
      "text/html": [
       "\n",
       "<style>\n",
       "    /* Turns off some styling */\n",
       "    progress {\n",
       "        /* gets rid of default border in Firefox and Opera. */\n",
       "        border: none;\n",
       "        /* Needs to be in here for Safari polyfill so background images work as expected. */\n",
       "        background-size: auto;\n",
       "    }\n",
       "    progress:not([value]), progress:not([value])::-webkit-progress-bar {\n",
       "        background: repeating-linear-gradient(45deg, #7e7e7e, #7e7e7e 10px, #5c5c5c 10px, #5c5c5c 20px);\n",
       "    }\n",
       "    .progress-bar-interrupted, .progress-bar-interrupted::-webkit-progress-bar {\n",
       "        background: #F44336;\n",
       "    }\n",
       "</style>\n"
      ],
      "text/plain": [
       "<IPython.core.display.HTML object>"
      ]
     },
     "metadata": {},
     "output_type": "display_data"
    },
    {
     "data": {
      "text/html": [],
      "text/plain": [
       "<IPython.core.display.HTML object>"
      ]
     },
     "metadata": {},
     "output_type": "display_data"
    }
   ],
   "source": [
    "test_ds = []\n",
    "test_dl = []\n",
    "\n",
    "# Create a test dataset\n",
    "test_ds = TSDatasets(X_test_2_b, y_test_2_b, tfms=[None, TSClassification(vocab=vocab)], splits=None) \n",
    " # Create a test dataloader\n",
    "test_dl = learn_loaded.dls.new(test_ds)\n",
    "\n",
    "targets_pred, targets_true = learn_loaded.get_preds(dl=test_dl)\n",
    "targets_pred = targets_pred.argmax(dim=-1)\n",
    "\n",
    "loss = learn_loaded.top_losses(X_test_2_b, y_test_2_b, largest=True, k = len(y_test_2_b))\n",
    "nn = loss[1]\n",
    "\n",
    "aa = []\n",
    "for i1 in range(len(nn)):\n",
    "    aa.append([int(ID_pred[nn[i1]][0]), vocab[targets_true[nn[i1]].item()], vocab[targets_pred[nn[i1]].item()]])\n",
    "    \n",
    "# Create an empty dictionary\n",
    "count_dict = {}\n",
    "\n",
    "# Loop through the list\n",
    "for _, true, predicted in aa:\n",
    "    # If the true label is not in the dictionary, add it\n",
    "    if true not in count_dict:\n",
    "        count_dict[true] = {predicted: 1}\n",
    "    else:\n",
    "        # If the predicted label is not associated with the true label, add it\n",
    "        if predicted not in count_dict[true]:\n",
    "            count_dict[true][predicted] = 1\n",
    "        else:\n",
    "            # If the predicted label is already associated with the true label, increment the count\n",
    "            count_dict[true][predicted] += 1\n",
    "\n",
    "# # Print the dictionary\n",
    "# for true, predicted_dict in count_dict.items():\n",
    "#     print(f\"For true label '{true}':\")\n",
    "#     for predicted, count in predicted_dict.items():\n",
    "#         print(f\"    Predicted label '{predicted}': {count} times\")\n",
    "\n",
    "\n",
    "# Print the dictionary\n",
    "for true, predicted_dict in count_dict.items():\n",
    "    print(f\"True label: '{true}':\")\n",
    "    for predicted, count in predicted_dict.items():\n",
    "        print(f\"Predicted label: '{predicted}'\")"
   ]
  }
 ],
 "metadata": {
  "kernelspec": {
   "display_name": "Python [conda env:root] *",
   "language": "python",
   "name": "conda-root-py"
  },
  "language_info": {
   "codemirror_mode": {
    "name": "ipython",
    "version": 3
   },
   "file_extension": ".py",
   "mimetype": "text/x-python",
   "name": "python",
   "nbconvert_exporter": "python",
   "pygments_lexer": "ipython3",
   "version": "3.8.15"
  },
  "latex_envs": {
   "LaTeX_envs_menu_present": true,
   "autoclose": false,
   "autocomplete": true,
   "bibliofile": "biblio.bib",
   "cite_by": "apalike",
   "current_citInitial": 1,
   "eqLabelWithNumbers": true,
   "eqNumInitial": 1,
   "hotkeys": {
    "equation": "Ctrl-E",
    "itemize": "Ctrl-I"
   },
   "labels_anchors": false,
   "latex_user_defs": false,
   "report_style_numbering": false,
   "user_envs_cfg": false
  },
  "toc": {
   "base_numbering": 1,
   "nav_menu": {},
   "number_sections": true,
   "sideBar": true,
   "skip_h1_title": false,
   "title_cell": "Table of Contents",
   "title_sidebar": "Contents",
   "toc_cell": false,
   "toc_position": {},
   "toc_section_display": true,
   "toc_window_display": false
  }
 },
 "nbformat": 4,
 "nbformat_minor": 5
}
